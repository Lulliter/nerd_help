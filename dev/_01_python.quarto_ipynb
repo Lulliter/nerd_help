{
  "cells": [
    {
      "cell_type": "markdown",
      "metadata": {},
      "source": [
        "---\n",
        "title: \"Python\"\n",
        "editor: source\n",
        "## ------  general Output Options\n",
        "execute:     \n",
        "  eval: false\n",
        "  echo: true     #  include source code in output\n",
        "  warning: false  #  include warning code in output\n",
        "  error: false    #  include error code in output\n",
        "  output: false   # include output code in output (CHG in BLOCKS)\n",
        "  # include: false   # R still runs but code and results DON\"T appear in output  \n",
        "  cache: false # normalmnte false\n",
        "toc: true\n",
        "fig-cap-location: top\n",
        "tbl-cap-location: top\n",
        "format:\n",
        "  html:\n",
        "    # theme: flatly #spacelab\n",
        "    code-fold: false # redundant bc echo false \n",
        "    toc-depth: 3\n",
        "    toc_float: true\n",
        "    toc-location: left\n",
        "    toc-title: Outline\n",
        "    embed-resources: true # external dependencies embedded (Not in ..._files/)\n",
        "  # pdf:\n",
        "  #   toc-depth: 2\n",
        "  #   toc-title: Indice\n",
        "  #   highlight-style: github\n",
        "  #   #lang: it\n",
        "  #   embed-resources: true # external dependencies embedded (Not in ..._files/)\n",
        "format-links: false\n",
        "---\n",
        "\n",
        " \n",
        "RStudio has `reticulate` package embedded\n",
        "\n",
        "Python is standalone in your machine\n",
        "\n",
        "```{bash}\n",
        "python3 --version\n",
        "#Python 3.13.0\n",
        "```\n",
        "\n",
        "```{pyhthon}\n",
        "print(\"Hello World\")\n",
        "```"
      ],
      "id": "0d13730e"
    }
  ],
  "metadata": {
    "kernelspec": {
      "display_name": "Python 3",
      "language": "python",
      "name": "python3"
    }
  },
  "nbformat": 4,
  "nbformat_minor": 5
}